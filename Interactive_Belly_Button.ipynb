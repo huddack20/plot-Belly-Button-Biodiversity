{
 "cells": [
  {
   "cell_type": "markdown",
   "id": "d38cdd2b",
   "metadata": {},
   "source": [
    "# Data Cleaning"
   ]
  },
  {
   "cell_type": "code",
   "execution_count": 2,
   "id": "d70db906",
   "metadata": {},
   "outputs": [],
   "source": [
    "import pandas as pd\n",
    "import numpy as np\n",
    "import matplotlib.pyplot as plt"
   ]
  },
  {
   "cell_type": "code",
   "execution_count": 3,
   "id": "212d4f0c",
   "metadata": {},
   "outputs": [
    {
     "data": {
      "text/html": [
       "<div>\n",
       "<style scoped>\n",
       "    .dataframe tbody tr th:only-of-type {\n",
       "        vertical-align: middle;\n",
       "    }\n",
       "\n",
       "    .dataframe tbody tr th {\n",
       "        vertical-align: top;\n",
       "    }\n",
       "\n",
       "    .dataframe thead th {\n",
       "        text-align: right;\n",
       "    }\n",
       "</style>\n",
       "<table border=\"1\" class=\"dataframe\">\n",
       "  <thead>\n",
       "    <tr style=\"text-align: right;\">\n",
       "      <th></th>\n",
       "      <th>names</th>\n",
       "      <th>metadata</th>\n",
       "      <th>samples</th>\n",
       "    </tr>\n",
       "  </thead>\n",
       "  <tbody>\n",
       "    <tr>\n",
       "      <th>0</th>\n",
       "      <td>940</td>\n",
       "      <td>{'id': 940, 'ethnicity': 'Caucasian', 'gender'...</td>\n",
       "      <td>{'id': '940', 'otu_ids': [1167, 2859, 482, 226...</td>\n",
       "    </tr>\n",
       "    <tr>\n",
       "      <th>1</th>\n",
       "      <td>941</td>\n",
       "      <td>{'id': 941, 'ethnicity': 'Caucasian/Midleaster...</td>\n",
       "      <td>{'id': '941', 'otu_ids': [2722, 944, 2419, 253...</td>\n",
       "    </tr>\n",
       "    <tr>\n",
       "      <th>2</th>\n",
       "      <td>943</td>\n",
       "      <td>{'id': 943, 'ethnicity': 'Caucasian', 'gender'...</td>\n",
       "      <td>{'id': '943', 'otu_ids': [1795], 'sample_value...</td>\n",
       "    </tr>\n",
       "    <tr>\n",
       "      <th>3</th>\n",
       "      <td>944</td>\n",
       "      <td>{'id': 944, 'ethnicity': 'European', 'gender':...</td>\n",
       "      <td>{'id': '944', 'otu_ids': [922, 3555, 943, 1013...</td>\n",
       "    </tr>\n",
       "    <tr>\n",
       "      <th>4</th>\n",
       "      <td>945</td>\n",
       "      <td>{'id': 945, 'ethnicity': 'Caucasian', 'gender'...</td>\n",
       "      <td>{'id': '945', 'otu_ids': [944, 1795, 922, 2419...</td>\n",
       "    </tr>\n",
       "  </tbody>\n",
       "</table>\n",
       "</div>"
      ],
      "text/plain": [
       "   names                                           metadata  \\\n",
       "0    940  {'id': 940, 'ethnicity': 'Caucasian', 'gender'...   \n",
       "1    941  {'id': 941, 'ethnicity': 'Caucasian/Midleaster...   \n",
       "2    943  {'id': 943, 'ethnicity': 'Caucasian', 'gender'...   \n",
       "3    944  {'id': 944, 'ethnicity': 'European', 'gender':...   \n",
       "4    945  {'id': 945, 'ethnicity': 'Caucasian', 'gender'...   \n",
       "\n",
       "                                             samples  \n",
       "0  {'id': '940', 'otu_ids': [1167, 2859, 482, 226...  \n",
       "1  {'id': '941', 'otu_ids': [2722, 944, 2419, 253...  \n",
       "2  {'id': '943', 'otu_ids': [1795], 'sample_value...  \n",
       "3  {'id': '944', 'otu_ids': [922, 3555, 943, 1013...  \n",
       "4  {'id': '945', 'otu_ids': [944, 1795, 922, 2419...  "
      ]
     },
     "execution_count": 3,
     "metadata": {},
     "output_type": "execute_result"
    }
   ],
   "source": [
    "df = pd.read_json(\"samples.json\")\n",
    "df.head()"
   ]
  },
  {
   "cell_type": "markdown",
   "id": "a6a73ecc",
   "metadata": {},
   "source": [
    "# Extract dictionary column to a dataframe: apply(pd.Series)"
   ]
  },
  {
   "cell_type": "code",
   "execution_count": 4,
   "id": "d545ed0f",
   "metadata": {},
   "outputs": [
    {
     "data": {
      "text/html": [
       "<div>\n",
       "<style scoped>\n",
       "    .dataframe tbody tr th:only-of-type {\n",
       "        vertical-align: middle;\n",
       "    }\n",
       "\n",
       "    .dataframe tbody tr th {\n",
       "        vertical-align: top;\n",
       "    }\n",
       "\n",
       "    .dataframe thead th {\n",
       "        text-align: right;\n",
       "    }\n",
       "</style>\n",
       "<table border=\"1\" class=\"dataframe\">\n",
       "  <thead>\n",
       "    <tr style=\"text-align: right;\">\n",
       "      <th></th>\n",
       "      <th>id</th>\n",
       "      <th>ethnicity</th>\n",
       "      <th>gender</th>\n",
       "      <th>age</th>\n",
       "      <th>location</th>\n",
       "      <th>bbtype</th>\n",
       "      <th>wfreq</th>\n",
       "    </tr>\n",
       "  </thead>\n",
       "  <tbody>\n",
       "    <tr>\n",
       "      <th>0</th>\n",
       "      <td>940</td>\n",
       "      <td>Caucasian</td>\n",
       "      <td>F</td>\n",
       "      <td>24.0</td>\n",
       "      <td>Beaufort/NC</td>\n",
       "      <td>I</td>\n",
       "      <td>2.0</td>\n",
       "    </tr>\n",
       "    <tr>\n",
       "      <th>1</th>\n",
       "      <td>941</td>\n",
       "      <td>Caucasian/Midleastern</td>\n",
       "      <td>F</td>\n",
       "      <td>34.0</td>\n",
       "      <td>Chicago/IL</td>\n",
       "      <td>I</td>\n",
       "      <td>1.0</td>\n",
       "    </tr>\n",
       "    <tr>\n",
       "      <th>2</th>\n",
       "      <td>943</td>\n",
       "      <td>Caucasian</td>\n",
       "      <td>F</td>\n",
       "      <td>49.0</td>\n",
       "      <td>Omaha/NE</td>\n",
       "      <td>I</td>\n",
       "      <td>1.0</td>\n",
       "    </tr>\n",
       "    <tr>\n",
       "      <th>3</th>\n",
       "      <td>944</td>\n",
       "      <td>European</td>\n",
       "      <td>M</td>\n",
       "      <td>44.0</td>\n",
       "      <td>NewHaven/CT</td>\n",
       "      <td>I</td>\n",
       "      <td>1.0</td>\n",
       "    </tr>\n",
       "    <tr>\n",
       "      <th>4</th>\n",
       "      <td>945</td>\n",
       "      <td>Caucasian</td>\n",
       "      <td>F</td>\n",
       "      <td>48.0</td>\n",
       "      <td>Philidelphia/PA</td>\n",
       "      <td>I</td>\n",
       "      <td>1.0</td>\n",
       "    </tr>\n",
       "  </tbody>\n",
       "</table>\n",
       "</div>"
      ],
      "text/plain": [
       "    id              ethnicity gender   age         location bbtype  wfreq\n",
       "0  940              Caucasian      F  24.0      Beaufort/NC      I    2.0\n",
       "1  941  Caucasian/Midleastern      F  34.0       Chicago/IL      I    1.0\n",
       "2  943              Caucasian      F  49.0         Omaha/NE      I    1.0\n",
       "3  944               European      M  44.0      NewHaven/CT      I    1.0\n",
       "4  945              Caucasian      F  48.0  Philidelphia/PA      I    1.0"
      ]
     },
     "execution_count": 4,
     "metadata": {},
     "output_type": "execute_result"
    }
   ],
   "source": [
    "metadata_df = df[\"metadata\"].apply(pd.Series)\n",
    "metadata_df.head()"
   ]
  },
  {
   "cell_type": "code",
   "execution_count": 5,
   "id": "ea677849",
   "metadata": {},
   "outputs": [],
   "source": [
    "samples_df = df[\"samples\"].apply(pd.Series)\n",
    "samples_df.head()\n",
    "\n",
    "samples_df['id'] = samples_df['id'].astype(int)"
   ]
  },
  {
   "cell_type": "code",
   "execution_count": 6,
   "id": "186331df",
   "metadata": {},
   "outputs": [],
   "source": [
    "names = df[\"names\"]\n",
    "names_df = pd.DataFrame(names, columns=['names'])"
   ]
  },
  {
   "cell_type": "code",
   "execution_count": 7,
   "id": "f6f90366",
   "metadata": {},
   "outputs": [
    {
     "data": {
      "text/html": [
       "<div>\n",
       "<style scoped>\n",
       "    .dataframe tbody tr th:only-of-type {\n",
       "        vertical-align: middle;\n",
       "    }\n",
       "\n",
       "    .dataframe tbody tr th {\n",
       "        vertical-align: top;\n",
       "    }\n",
       "\n",
       "    .dataframe thead th {\n",
       "        text-align: right;\n",
       "    }\n",
       "</style>\n",
       "<table border=\"1\" class=\"dataframe\">\n",
       "  <thead>\n",
       "    <tr style=\"text-align: right;\">\n",
       "      <th></th>\n",
       "      <th>names</th>\n",
       "      <th>id</th>\n",
       "      <th>ethnicity</th>\n",
       "      <th>gender</th>\n",
       "      <th>age</th>\n",
       "      <th>location</th>\n",
       "      <th>bbtype</th>\n",
       "      <th>wfreq</th>\n",
       "    </tr>\n",
       "  </thead>\n",
       "  <tbody>\n",
       "    <tr>\n",
       "      <th>0</th>\n",
       "      <td>940</td>\n",
       "      <td>940</td>\n",
       "      <td>Caucasian</td>\n",
       "      <td>F</td>\n",
       "      <td>24.0</td>\n",
       "      <td>Beaufort/NC</td>\n",
       "      <td>I</td>\n",
       "      <td>2.0</td>\n",
       "    </tr>\n",
       "    <tr>\n",
       "      <th>1</th>\n",
       "      <td>941</td>\n",
       "      <td>941</td>\n",
       "      <td>Caucasian/Midleastern</td>\n",
       "      <td>F</td>\n",
       "      <td>34.0</td>\n",
       "      <td>Chicago/IL</td>\n",
       "      <td>I</td>\n",
       "      <td>1.0</td>\n",
       "    </tr>\n",
       "    <tr>\n",
       "      <th>2</th>\n",
       "      <td>943</td>\n",
       "      <td>943</td>\n",
       "      <td>Caucasian</td>\n",
       "      <td>F</td>\n",
       "      <td>49.0</td>\n",
       "      <td>Omaha/NE</td>\n",
       "      <td>I</td>\n",
       "      <td>1.0</td>\n",
       "    </tr>\n",
       "    <tr>\n",
       "      <th>3</th>\n",
       "      <td>944</td>\n",
       "      <td>944</td>\n",
       "      <td>European</td>\n",
       "      <td>M</td>\n",
       "      <td>44.0</td>\n",
       "      <td>NewHaven/CT</td>\n",
       "      <td>I</td>\n",
       "      <td>1.0</td>\n",
       "    </tr>\n",
       "    <tr>\n",
       "      <th>4</th>\n",
       "      <td>945</td>\n",
       "      <td>945</td>\n",
       "      <td>Caucasian</td>\n",
       "      <td>F</td>\n",
       "      <td>48.0</td>\n",
       "      <td>Philidelphia/PA</td>\n",
       "      <td>I</td>\n",
       "      <td>1.0</td>\n",
       "    </tr>\n",
       "  </tbody>\n",
       "</table>\n",
       "</div>"
      ],
      "text/plain": [
       "   names   id              ethnicity gender   age         location bbtype  \\\n",
       "0    940  940              Caucasian      F  24.0      Beaufort/NC      I   \n",
       "1    941  941  Caucasian/Midleastern      F  34.0       Chicago/IL      I   \n",
       "2    943  943              Caucasian      F  49.0         Omaha/NE      I   \n",
       "3    944  944               European      M  44.0      NewHaven/CT      I   \n",
       "4    945  945              Caucasian      F  48.0  Philidelphia/PA      I   \n",
       "\n",
       "   wfreq  \n",
       "0    2.0  \n",
       "1    1.0  \n",
       "2    1.0  \n",
       "3    1.0  \n",
       "4    1.0  "
      ]
     },
     "execution_count": 7,
     "metadata": {},
     "output_type": "execute_result"
    }
   ],
   "source": [
    "temp_df = names_df.merge(metadata_df, left_on='names', right_on='id')\n",
    "temp_df.head()"
   ]
  },
  {
   "cell_type": "code",
   "execution_count": 164,
   "id": "2f548a99",
   "metadata": {},
   "outputs": [
    {
     "data": {
      "text/html": [
       "<div>\n",
       "<style scoped>\n",
       "    .dataframe tbody tr th:only-of-type {\n",
       "        vertical-align: middle;\n",
       "    }\n",
       "\n",
       "    .dataframe tbody tr th {\n",
       "        vertical-align: top;\n",
       "    }\n",
       "\n",
       "    .dataframe thead th {\n",
       "        text-align: right;\n",
       "    }\n",
       "</style>\n",
       "<table border=\"1\" class=\"dataframe\">\n",
       "  <thead>\n",
       "    <tr style=\"text-align: right;\">\n",
       "      <th></th>\n",
       "      <th>names</th>\n",
       "      <th>id</th>\n",
       "      <th>ethnicity</th>\n",
       "      <th>gender</th>\n",
       "      <th>age</th>\n",
       "      <th>location</th>\n",
       "      <th>bbtype</th>\n",
       "      <th>wfreq</th>\n",
       "      <th>otu_ids</th>\n",
       "      <th>sample_values</th>\n",
       "      <th>otu_labels</th>\n",
       "    </tr>\n",
       "  </thead>\n",
       "  <tbody>\n",
       "    <tr>\n",
       "      <th>148</th>\n",
       "      <td>1574</td>\n",
       "      <td>1574</td>\n",
       "      <td>Caucasian</td>\n",
       "      <td>M</td>\n",
       "      <td>30.0</td>\n",
       "      <td>OK</td>\n",
       "      <td>I</td>\n",
       "      <td>7.0</td>\n",
       "      <td>[482, 909, 2419, 944, 1795, 1167, 2859, 922, 2...</td>\n",
       "      <td>[29, 18, 16, 15, 14, 14, 14, 13, 13, 9, 7, 5, ...</td>\n",
       "      <td>[Bacteria, Bacteria;Actinobacteria;Actinobacte...</td>\n",
       "    </tr>\n",
       "    <tr>\n",
       "      <th>149</th>\n",
       "      <td>1576</td>\n",
       "      <td>1576</td>\n",
       "      <td>Caucasian</td>\n",
       "      <td>F</td>\n",
       "      <td>33.0</td>\n",
       "      <td>NC</td>\n",
       "      <td>I</td>\n",
       "      <td>0.0</td>\n",
       "      <td>[1929, 1770, 1926, 151, 1016, 3064, 477, 3184,...</td>\n",
       "      <td>[121, 83, 10, 9, 9, 8, 7, 6, 6, 5, 5, 4, 2, 2,...</td>\n",
       "      <td>[Bacteria;Firmicutes;Bacilli;Lactobacillales;S...</td>\n",
       "    </tr>\n",
       "    <tr>\n",
       "      <th>150</th>\n",
       "      <td>1577</td>\n",
       "      <td>1577</td>\n",
       "      <td>Caucasian</td>\n",
       "      <td>M</td>\n",
       "      <td>26.0</td>\n",
       "      <td>NC</td>\n",
       "      <td>I</td>\n",
       "      <td>0.0</td>\n",
       "      <td>[922, 1795, 151, 3184, 1770, 1929, 3134, 1399,...</td>\n",
       "      <td>[152, 130, 10, 9, 6, 6, 5, 4, 4, 3, 3, 3, 3, 3...</td>\n",
       "      <td>[Bacteria;Actinobacteria;Actinobacteria;Actino...</td>\n",
       "    </tr>\n",
       "    <tr>\n",
       "      <th>151</th>\n",
       "      <td>1581</td>\n",
       "      <td>1581</td>\n",
       "      <td>Asian(American)</td>\n",
       "      <td>F</td>\n",
       "      <td>22.0</td>\n",
       "      <td>NC</td>\n",
       "      <td>I</td>\n",
       "      <td>2.0</td>\n",
       "      <td>[1795, 3312, 1399, 3134, 3288, 3120, 151, 954,...</td>\n",
       "      <td>[176, 57, 10, 10, 9, 8, 6, 6, 6, 5, 5, 5, 4, 3...</td>\n",
       "      <td>[Bacteria;Firmicutes;Bacilli;Bacillales;Staphy...</td>\n",
       "    </tr>\n",
       "    <tr>\n",
       "      <th>152</th>\n",
       "      <td>1601</td>\n",
       "      <td>1601</td>\n",
       "      <td>Caucasian</td>\n",
       "      <td>F</td>\n",
       "      <td>22.0</td>\n",
       "      <td>NC</td>\n",
       "      <td>I</td>\n",
       "      <td>2.0</td>\n",
       "      <td>[1929, 3030, 1795, 894, 1167, 1926, 3042, 1930...</td>\n",
       "      <td>[166, 129, 97, 94, 73, 51, 32, 32, 25, 22, 16,...</td>\n",
       "      <td>[Bacteria;Firmicutes;Bacilli;Lactobacillales;S...</td>\n",
       "    </tr>\n",
       "  </tbody>\n",
       "</table>\n",
       "</div>"
      ],
      "text/plain": [
       "     names    id        ethnicity gender   age location bbtype  wfreq  \\\n",
       "148   1574  1574        Caucasian      M  30.0       OK      I    7.0   \n",
       "149   1576  1576        Caucasian      F  33.0       NC      I    0.0   \n",
       "150   1577  1577        Caucasian      M  26.0       NC      I    0.0   \n",
       "151   1581  1581  Asian(American)      F  22.0       NC      I    2.0   \n",
       "152   1601  1601        Caucasian      F  22.0       NC      I    2.0   \n",
       "\n",
       "                                               otu_ids  \\\n",
       "148  [482, 909, 2419, 944, 1795, 1167, 2859, 922, 2...   \n",
       "149  [1929, 1770, 1926, 151, 1016, 3064, 477, 3184,...   \n",
       "150  [922, 1795, 151, 3184, 1770, 1929, 3134, 1399,...   \n",
       "151  [1795, 3312, 1399, 3134, 3288, 3120, 151, 954,...   \n",
       "152  [1929, 3030, 1795, 894, 1167, 1926, 3042, 1930...   \n",
       "\n",
       "                                         sample_values  \\\n",
       "148  [29, 18, 16, 15, 14, 14, 14, 13, 13, 9, 7, 5, ...   \n",
       "149  [121, 83, 10, 9, 9, 8, 7, 6, 6, 5, 5, 4, 2, 2,...   \n",
       "150  [152, 130, 10, 9, 6, 6, 5, 4, 4, 3, 3, 3, 3, 3...   \n",
       "151  [176, 57, 10, 10, 9, 8, 6, 6, 6, 5, 5, 5, 4, 3...   \n",
       "152  [166, 129, 97, 94, 73, 51, 32, 32, 25, 22, 16,...   \n",
       "\n",
       "                                            otu_labels  \n",
       "148  [Bacteria, Bacteria;Actinobacteria;Actinobacte...  \n",
       "149  [Bacteria;Firmicutes;Bacilli;Lactobacillales;S...  \n",
       "150  [Bacteria;Actinobacteria;Actinobacteria;Actino...  \n",
       "151  [Bacteria;Firmicutes;Bacilli;Bacillales;Staphy...  \n",
       "152  [Bacteria;Firmicutes;Bacilli;Lactobacillales;S...  "
      ]
     },
     "execution_count": 164,
     "metadata": {},
     "output_type": "execute_result"
    }
   ],
   "source": [
    "data_df = temp_df.merge(samples_df, left_on='id', right_on='id')\n",
    "data_df.tail()"
   ]
  },
  {
   "cell_type": "code",
   "execution_count": 9,
   "id": "b5393eb3",
   "metadata": {},
   "outputs": [
    {
     "data": {
      "text/plain": [
       "['1167', '2859', '482', '2264', '41', '1189', '352', '189', '2318', '1977']"
      ]
     },
     "execution_count": 9,
     "metadata": {},
     "output_type": "execute_result"
    }
   ],
   "source": [
    "otu_ids = list(map(str, data_df['otu_ids'][0][0:10]))\n",
    "otu_ids"
   ]
  },
  {
   "cell_type": "code",
   "execution_count": 10,
   "id": "88f09e16",
   "metadata": {},
   "outputs": [
    {
     "data": {
      "image/png": "[encoded data removed]",
      "text/plain": [
       "<Figure size 432x288 with 1 Axes>"
      ]
     },
     "metadata": {
      "needs_background": "light"
     },
     "output_type": "display_data"
    },
    {
     "data": {
      "text/plain": [
       "<Figure size 216x288 with 0 Axes>"
      ]
     },
     "metadata": {},
     "output_type": "display_data"
    }
   ],
   "source": [
    "plt.barh(otu_ids, data_df['sample_values'][0][0:10])\n",
    "plt.gca().invert_yaxis()\n",
    "\n",
    "plt.ylabel('OTU IDs')\n",
    "plt.figure(figsize=(3, 4))\n",
    "plt.show()"
   ]
  },
  {
   "cell_type": "code",
   "execution_count": 11,
   "id": "004d86d3",
   "metadata": {},
   "outputs": [
    {
     "data": {
      "text/plain": [
       "153"
      ]
     },
     "execution_count": 11,
     "metadata": {},
     "output_type": "execute_result"
    }
   ],
   "source": [
    "len(data_df['otu_ids'])"
   ]
  },
  {
   "cell_type": "markdown",
   "id": "ce0a009e",
   "metadata": {},
   "source": [
    "# Interactive Plots in Jupyter Notebook"
   ]
  },
  {
   "cell_type": "code",
   "execution_count": 12,
   "id": "0bf8dc2a",
   "metadata": {},
   "outputs": [],
   "source": [
    "import textwrap\n",
    "\n",
    "import ipywidgets as widgets\n",
    "from ipywidgets import interact, interact_manual\n",
    "import IPython.display\n",
    "from IPython.display import display, clear_output\n",
    "\n",
    "import plotly.graph_objects as go"
   ]
  },
  {
   "cell_type": "code",
   "execution_count": 13,
   "id": "6751bc2f",
   "metadata": {},
   "outputs": [],
   "source": [
    "id_list = data_df['id'].tolist()"
   ]
  },
  {
   "cell_type": "code",
   "execution_count": 20,
   "id": "cca7ea2c",
   "metadata": {},
   "outputs": [
    {
     "data": {
      "text/plain": [
       "[194, 178, 162, 92, 84, 40, 37, 28, 27, 24]"
      ]
     },
     "execution_count": 20,
     "metadata": {},
     "output_type": "execute_result"
    }
   ],
   "source": [
    "data_df.loc[data_df['id'] == 941]['sample_values'][1][0:10]\n",
    "#data_df.loc[data_df['id'] == 941]['otu_ids'][0][0:10]"
   ]
  },
  {
   "cell_type": "code",
   "execution_count": 130,
   "id": "6ad02fe1",
   "metadata": {},
   "outputs": [
    {
     "data": {
      "text/plain": [
       "2.0"
      ]
     },
     "execution_count": 130,
     "metadata": {},
     "output_type": "execute_result"
    }
   ],
   "source": [
    "data_df[data_df['id']==941].index.values\n",
    "data_df.loc[data_df['id'] == 940]['wfreq'][0]"
   ]
  },
  {
   "cell_type": "markdown",
   "id": "fb5cbc4c",
   "metadata": {},
   "source": [
    "# Interactive Plots (bar and bubble) using ipywidgets interact\n",
    "\n",
    "# These are only shown in Jupyter notebook."
   ]
  },
  {
   "cell_type": "code",
   "execution_count": 163,
   "id": "017cd772",
   "metadata": {},
   "outputs": [
    {
     "data": {
      "application/vnd.jupyter.widget-view+json": {
       "model_id": "dd18b837617e4bb8b81e1251fe91e250",
       "version_major": 2,
       "version_minor": 0
      },
      "text/plain": [
       "interactive(children=(Text(value='id', description='column'), IntSlider(value=940, description='x', max=2820, …"
      ]
     },
     "metadata": {},
     "output_type": "display_data"
    }
   ],
   "source": [
    "from ipywidgets import interact, interactive\n",
    "import plotly.graph_objects as go\n",
    "\n",
    "import seaborn as sns\n",
    "\n",
    "id_list = data_df['id'].values.tolist()\n",
    "\n",
    "@interact\n",
    "def show_plots(column='id', x=940):\n",
    "    \n",
    "    if x in id_list:\n",
    "        \n",
    "        print('\\n Demographic Information\\n')\n",
    "        print(data_df.loc[data_df[column] == x, ['names', 'ethnicity', 'gender', 'age', 'location', 'wfreq']])\n",
    "        print('\\n')\n",
    "        \n",
    "        # Interactive bubble chart\n",
    "        \n",
    "        index = int(data_df[data_df[column]==x].index.values)\n",
    "    \n",
    "        otu_id = data_df.loc[data_df[column] == x]['otu_ids'][index][0:]\n",
    "\n",
    "        size = data_df.loc[data_df[column] == x]['sample_values'][index][0:]\n",
    "        \n",
    "        my_new_list = [i * 50 for i in size]\n",
    "    \n",
    "        colors = np.random.rand(len(otu_id))\n",
    "    \n",
    "        fig1 = sns.scatterplot(otu_id, size, s=my_new_list, alpha=0.5, c=colors)\n",
    "        plt.xlabel('OTU ID')\n",
    "        plt.ylabel('Sample Value')\n",
    "        plt.show()\n",
    "        \n",
    "        # interactive bar graph\n",
    "        \n",
    "        otu_id_10 = data_df.loc[data_df[column] == x]['otu_ids'][index][0:10]\n",
    "        otu_id_10 = list(map(str, data_df['otu_ids'][index][0:10]))\n",
    "\n",
    "        size_10 = data_df.loc[data_df[column] == x]['sample_values'][index][0:10]\n",
    "    \n",
    "        fig2 = plt.barh(otu_id_10, size_10)\n",
    "        plt.gca().invert_yaxis()\n",
    "        \n",
    "        plt.ylabel('OTU IDs')\n",
    "        plt.figure(figsize=(3, 4))\n",
    "        \n",
    "        plt.show()\n",
    "        \n",
    "        fig3 = go.Figure(go.Indicator(\n",
    "            domain = {'x': [0, 1], 'y': [0, 1]},\n",
    "            mode = \"gauge+number\",\n",
    "            value = data_df.loc[data_df[column] == x]['wfreq'][index],\n",
    "            title = {'text': \"Belly Button Washing Frequency<br>Scrubs per Week\"},\n",
    "            gauge = {'bar': {'color': \"red\"},\n",
    "                     'axis': {'range': [None, 9]},\n",
    "                     'steps': [{'range': [0, 1], 'color': 'rgb(248, 243, 236)'},\n",
    "                               {'range': [1, 2], 'color': 'rgb(244, 241, 229)'},\n",
    "                               {'range': [2, 3], 'color': 'rgb(233, 230, 202)'},\n",
    "                               {'range': [3, 4], 'color': 'rgb(229, 231, 179)'},\n",
    "                               {'range': [4, 5], 'color': 'rgb(213, 228, 157)'},\n",
    "                               {'range': [5, 6], 'color': 'rgb(183, 204, 146)'},\n",
    "                               {'range': [6, 7], 'color': 'rgb(140, 191, 136)'},\n",
    "                               {'range': [7, 8], 'color': 'rgb(138, 187, 143)'},\n",
    "                               {'range': [8, 9], 'color': 'rgb(133, 180, 138)'}\n",
    "                              ]}\n",
    "                     ))\n",
    "        fig3.show()"
   ]
  },
  {
   "cell_type": "code",
   "execution_count": 122,
   "id": "1ba4ee4c",
   "metadata": {},
   "outputs": [
    {
     "name": "stdout",
     "output_type": "stream",
     "text": [
      " Volume in drive C is Local Disk\n",
      " Volume Serial Number is FE3C-B042\n",
      "\n",
      " Directory of C:\\Users\\hyeji\\Desktop\\Penn_BootCamp\\Homework\\14-Interactive-Web-Visualizations\\Instructions\\StarterCode\n",
      "\n",
      "07/08/2022  01:59 PM    <DIR>          .\n",
      "07/08/2022  01:59 PM    <DIR>          ..\n",
      "07/08/2022  01:14 PM    <DIR>          .ipynb_checkpoints\n",
      "07/07/2022  09:26 PM             1,566 index.html\n",
      "07/08/2022  01:59 PM            33,445 Interactive_Belly_Button.ipynb\n",
      "06/25/2022  12:51 PM           449,080 samples.json\n",
      "06/25/2022  12:51 PM    <DIR>          static\n",
      "               3 File(s)        484,091 bytes\n",
      "               4 Dir(s)   4,717,731,840 bytes free\n"
     ]
    }
   ],
   "source": [
    "ls"
   ]
  },
  {
   "cell_type": "code",
   "execution_count": null,
   "id": "b29dfa38",
   "metadata": {},
   "outputs": [],
   "source": []
  }
 ],
 "metadata": {
  "kernelspec": {
   "display_name": "Python 3 (ipykernel)",
   "language": "python",
   "name": "python3"
  },
  "language_info": {
   "codemirror_mode": {
    "name": "ipython",
    "version": 3
   },
   "file_extension": ".py",
   "mimetype": "text/x-python",
   "name": "python",
   "nbconvert_exporter": "python",
   "pygments_lexer": "ipython3",
   "version": "3.9.12"
  }
 },
 "nbformat": 4,
 "nbformat_minor": 5
}
